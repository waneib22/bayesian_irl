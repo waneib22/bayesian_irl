{
 "cells": [
  {
   "cell_type": "markdown",
   "metadata": {},
   "source": [
    "## Project : Bayesian Inverse Reinforcement Learning"
   ]
  },
  {
   "cell_type": "markdown",
   "metadata": {},
   "source": [
    "#### Importation des modules et packages nécessaires pour le projet"
   ]
  },
  {
   "cell_type": "code",
   "execution_count": 1,
   "metadata": {},
   "outputs": [],
   "source": [
    "import numpy as np\n",
    "import seaborn as sns\n",
    "import matplotlib.pyplot as plt\n",
    "from matplotlib.colors import ListedColormap\n",
    "import random"
   ]
  },
  {
   "cell_type": "markdown",
   "metadata": {},
   "source": [
    "### Question 1"
   ]
  },
  {
   "cell_type": "code",
   "execution_count": 2,
   "metadata": {},
   "outputs": [],
   "source": [
    "class PartialMDP:\n",
    "    def __init__(self, states, actions, transition_probabilities, gamma=0.9):\n",
    "        \"\"\"\n",
    "        Initializes a partially defined Markov Decision Process.\n",
    "        \n",
    "        Parameters:\n",
    "        states (list): List of all possible states.\n",
    "        actions (dict): Dictionary where keys are states and values are lists of possible actions from that state.\n",
    "        transition_probabilities (dict): Nested dictionary where keys are (state, action) tuples and values are\n",
    "                                         lists of (probability, next_state) tuples.\n",
    "        gamma (float): Discount factor for future rewards.\n",
    "        \"\"\"\n",
    "        self.states = states\n",
    "        self.actions = actions\n",
    "        self.transition_probabilities = transition_probabilities\n",
    "        self.gamma = gamma\n",
    "\n",
    "    def get_possible_actions(self, state):\n",
    "        \"\"\"\n",
    "        Returns the list of possible actions from a given state.\n",
    "        \n",
    "        Parameters:\n",
    "        state (any): The current state.\n",
    "        \n",
    "        Returns:\n",
    "        list: Possible actions from the state.\n",
    "        \"\"\"\n",
    "        return self.actions.get(state, [])\n",
    "\n",
    "    def get_next_states(self, state, action):\n",
    "        \"\"\"\n",
    "        Returns the list of possible next states and their probabilities given a state and action.\n",
    "        \n",
    "        Parameters:\n",
    "        state (any): The current state.\n",
    "        action (str): The action taken.\n",
    "        \n",
    "        Returns:\n",
    "        list of tuples: Each tuple contains (probability, next_state).\n",
    "        \"\"\"\n",
    "        return self.transition_probabilities.get((state, action), [])"
   ]
  },
  {
   "cell_type": "markdown",
   "metadata": {},
   "source": [
    "### Questions 2 and 3"
   ]
  },
  {
   "cell_type": "markdown",
   "metadata": {},
   "source": [
    "##### Gridworld setup"
   ]
  },
  {
   "cell_type": "code",
   "execution_count": 3,
   "metadata": {},
   "outputs": [],
   "source": [
    "class GridWorld:\n",
    "    def __init__(self, rows=8, columns=8, slip_probability=0.2, gamma=0.9):\n",
    "        self.rows = rows\n",
    "        self.columns = columns\n",
    "        self.slip_probability = slip_probability\n",
    "        self.gamma = gamma\n",
    "        self.states = [(i, j) for i in range(1, columns+1) for j in range(1, rows+1)]\n",
    "        self.actions = ['L', 'R', 'U', 'D']        \n",
    "        # Transition probabilities will be a dictionary where the key is (state, action)\n",
    "        # and the value is a list of (probability, state) pairs\n",
    "        self.transition_probabilities = self.initialize_transitions()\n",
    "        self.grid_visual = np.zeros((self.rows, self.columns))\n",
    "        self.rewards = np.zeros((self.rows, self.columns))\n",
    "        self.setup_features()\n",
    "\n",
    "    def initialize_transitions(self):\n",
    "        transitions = {}\n",
    "        for state in self.states:\n",
    "            transitions[state] = {}\n",
    "            for action in self.actions:\n",
    "                transitions[state][action] = self.calculate_transitions(state, action)\n",
    "        return transitions\n",
    "\n",
    "    def calculate_transitions(self, state, action):\n",
    "        x, y = state\n",
    "        next_state = self.move(x, y, action)\n",
    "        slip_states = [self.move(x, y, a) for a in self.get_perpendicular_actions(action)]\n",
    "        transitions = [(self.slip_probability / 2, slip) for slip in slip_states if slip != state]\n",
    "        if next_state != state:\n",
    "            transitions.append((1 - self.slip_probability, next_state))\n",
    "        return transitions\n",
    "\n",
    "    def move(self, x, y, action):\n",
    "        if action == 'L' and y > 0:\n",
    "            return (x, y-1)\n",
    "        elif action == 'R' and y < self.columns-1:\n",
    "            return (x, y+1)\n",
    "        elif action == 'U' and x > 0:\n",
    "            return (x-1, y)\n",
    "        elif action == 'D' and x < self.rows-1:\n",
    "            return (x+1, y)\n",
    "        return (x,y)\n",
    "\n",
    "    def get_perpendicular_actions(self, action):\n",
    "        return ['U', 'D'] if action in ['L', 'R'] else ['L', 'R']\n",
    "    \n",
    "    def setup_features(self):\n",
    "        # Define special states based on the image provided\n",
    "        self.treasure_location = (7, 0)\n",
    "        self.bomb_locations = [(2, 2), (3, 6), (6, 5)]\n",
    "        self.mud_locations = [(0, 2), (0, 5), (1, 2), (1, 5), (6, 2), (6, 5), (7, 2), (7, 5)]\n",
    "        self.water_locations = [(row, col) for row in range(1, 2) for col in range(0,2)]\n",
    "        self.mountain_locations = [(row, col) for row in range(4, 5) for col in range(2, 4)]\n",
    "\n",
    "        # Set rewards and transition probabilities for special features\n",
    "        for state in self.states:\n",
    "            x, y = state\n",
    "            # Penalties\n",
    "            if state in self.mud_locations:\n",
    "                self.rewards[x][y] = -0.5  \n",
    "            elif state in self.water_locations:\n",
    "                self.rewards[x][y] = -1  \n",
    "            elif state in self.mountain_locations:\n",
    "                self.rewards[x][y] = -1  \n",
    "            elif state in self.bomb_locations:\n",
    "                self.rewards[x][y] = -10  \n",
    "            elif state == self.treasure_location:\n",
    "                self.rewards[x][y] = 10  \n",
    "        \n",
    "    def show_environment(self):\n",
    "        # Visual representation for debugging\n",
    "        env_visual = np.zeros((self.rows, self.columns))\n",
    "        for x, y in self.mud_locations:\n",
    "            env_visual[x][y] = 0.5  # Slightly different value for mud visualization\n",
    "        for x, y in self.water_locations:\n",
    "            env_visual[x][y] = 0.75  # Slightly different value for water visualization\n",
    "        for x, y in self.mountain_locations:\n",
    "            env_visual[x][y] = 1  # Slightly different value for mountain visualization\n",
    "        for x, y in self.bomb_locations:\n",
    "            env_visual[x][y] = -1  # Negative value for bombs\n",
    "        env_visual[self.treasure_location] = 2  # Distinct value for treasure\n",
    "        \n",
    "        cmap = ListedColormap(sns.color_palette(\"coolwarm\", n_colors=10).as_hex())\n",
    "        \n",
    "        plt.figure(figsize=(10, 8))\n",
    "        sns.heatmap(env_visual, cmap=cmap, annot=True, cbar=False,\n",
    "                         linewidths=.5, square=True, fmt=\"\",\n",
    "                         xticklabels=list(range(1, 9)),\n",
    "                         yticklabels=[chr(i) for i in range(ord('A'), ord('H') + 1)])\n",
    "        ax = plt.gca()\n",
    "        ax.invert_yaxis()\n",
    "        plt.title('GridWorld MDP State Visualization')\n",
    "\n",
    "        plt.show()"
   ]
  },
  {
   "cell_type": "markdown",
   "metadata": {},
   "source": [
    "#### Instantiation"
   ]
  },
  {
   "cell_type": "code",
   "execution_count": 4,
   "metadata": {},
   "outputs": [
    {
     "name": "stdout",
     "output_type": "stream",
     "text": [
      "Transition probabilities from (1,1) moving right: [(0.1, (0, 1)), (0.1, (2, 1)), (0.8, (1, 2))]\n"
     ]
    }
   ],
   "source": [
    "mdp = GridWorld()\n",
    "state = (1, 1)\n",
    "action = 'R'\n",
    "print(\"Transition probabilities from (1,1) moving right:\", mdp.transition_probabilities[state][action])"
   ]
  },
  {
   "cell_type": "code",
   "execution_count": 5,
   "metadata": {},
   "outputs": [
    {
     "data": {
      "image/png": "[encoded data removed]",
      "text/plain": [
       "<Figure size 1000x800 with 1 Axes>"
      ]
     },
     "metadata": {},
     "output_type": "display_data"
    }
   ],
   "source": [
    "mdp.show_environment()"
   ]
  },
  {
   "cell_type": "markdown",
   "metadata": {},
   "source": [
    "### Question 3"
   ]
  },
  {
   "cell_type": "markdown",
   "metadata": {},
   "source": [
    "#### GridWorld generalization"
   ]
  },
  {
   "cell_type": "code",
   "execution_count": 6,
   "metadata": {},
   "outputs": [],
   "source": [
    "class RandomGridWorld(GridWorld):\n",
    "    def __init__(self, rows=8, columns=8, slip_probability=0.2, gamma=0.9, feature_counts=None):\n",
    "        super().__init__(rows, columns, slip_probability, gamma)\n",
    "        if feature_counts is None:\n",
    "            feature_counts = {}\n",
    "        self.features = ['Treasure', 'Bomb', 'Mud', 'Water', 'Mountain']\n",
    "        self.grid_features = {state: [] for state in self.states}\n",
    "        self.populate_features(feature_counts)\n",
    "\n",
    "    def populate_features(self, feature_counts):\n",
    "        \"\"\"\n",
    "        Randomly assign features to states based on provided counts for each feature.\n",
    "        Ensure no feature overlaps unless allowed.\n",
    "        \"\"\"\n",
    "        available_states = list(self.states)  # All states start as available\n",
    "        for feature, count in feature_counts.items():\n",
    "            if count > len(available_states):\n",
    "                raise ValueError(f\"Not enough available states to place {count} {feature}(s)\")\n",
    "            chosen_states = random.sample(available_states, count)\n",
    "            for state in chosen_states:\n",
    "                self.grid_features[state].append(feature)\n",
    "                # Remove the state from available_states if features should not overlap\n",
    "                available_states.remove(state)  # Ensure a state cannot be chosen again for another feature"
   ]
  },
  {
   "cell_type": "markdown",
   "metadata": {},
   "source": [
    "#### Test"
   ]
  },
  {
   "cell_type": "code",
   "execution_count": 7,
   "metadata": {},
   "outputs": [
    {
     "data": {
      "image/png": "[encoded data removed]",
      "text/plain": [
       "<Figure size 1000x800 with 1 Axes>"
      ]
     },
     "metadata": {},
     "output_type": "display_data"
    }
   ],
   "source": [
    "feature_counts = {'Treasure': 6, 'Bomb': 12, 'Mud': 10, 'Water': 8, 'Mountain': 6}\n",
    "random_mdp = RandomGridWorld(feature_counts=feature_counts)\n",
    "random_mdp.show_environment()  # Displays the grid with features."
   ]
  },
  {
   "cell_type": "markdown",
   "metadata": {},
   "source": [
    "### Question 4 and 5"
   ]
  },
  {
   "cell_type": "markdown",
   "metadata": {},
   "source": [
    "#### Policy iteration implementation\n",
    "Here, we'll create a class representing a policy iteration which do these 3 tasks:\n",
    "    - **Evaluation** with evaluate method \\\n",
    "    - **Iteration** with iterate method \\\n",
    "    - **Improvement** with impove method"
   ]
  },
  {
   "cell_type": "code",
   "execution_count": 8,
   "metadata": {},
   "outputs": [],
   "source": [
    "class PolicyIteration:\n",
    "    def __init__(self, transition_probabilities, rewards, gamma=0.9, threshold=1e-10):\n",
    "        \"\"\"\n",
    "        Initialize the policy iteration class.\n",
    "        \n",
    "        Args:\n",
    "        transition_probabilities (numpy.ndarray): The transition probabilities with shape (nb_states, nb_actions, nb_states).\n",
    "        rewards (numpy.ndarray): The rewards with shape (nb_states, nb_actions).\n",
    "        gamma (float): The discount factor.\n",
    "        threshold (float): The threshold for convergence.\n",
    "        \"\"\"\n",
    "        self.T = transition_probabilities\n",
    "        self.R = rewards\n",
    "        self.gamma = gamma\n",
    "        self.threshold = threshold\n",
    "        self.nb_states, self.nb_actions = rewards.shape\n",
    "        self.Policy = np.zeros(self.nb_states, dtype=int)\n",
    "        self.Values = np.zeros(self.nb_states)\n",
    "\n",
    "    def evaluate(self):\n",
    "        \"\"\" Evaluate the current policy until convergence. \"\"\"\n",
    "        while True:\n",
    "            R_pol = self.R[np.arange(self.nb_states), self.Policy]\n",
    "            T_pol = self.T[np.arange(self.nb_states), self.Policy, :]\n",
    "            Values_old = self.Values.copy()\n",
    "            self.Values = R_pol + self.gamma * np.dot(T_pol, self.Values)\n",
    "            delta = np.abs(self.Values - Values_old).max()\n",
    "            if delta < self.threshold:\n",
    "                break\n",
    "\n",
    "    def improve(self):\n",
    "        \"\"\" Improve the policy based on the evaluated values. \"\"\"\n",
    "        Q = self.R + self.gamma * np.dot(self.T, self.Values)\n",
    "        new_policy = np.argmax(Q, axis=1)\n",
    "        policy_stable = np.array_equal(self.Policy, new_policy)\n",
    "        self.Policy = new_policy\n",
    "        return policy_stable\n",
    "    \n",
    "    def iterate(self):\n",
    "        \"\"\" Perform full policy iteration. \"\"\"\n",
    "        while True:\n",
    "            self.evaluate()\n",
    "            if self.improve():\n",
    "                break\n",
    "        return self.Values, self.Policy\n",
    "    \n",
    "\n",
    "# Question 5\n",
    "# def give_a_set_of_actions(reward, timesteps, initial_state):\n",
    "    \n",
    "\n",
    "def simulate_tutor(self, start_state, num_steps):\n",
    "        current_state = start_state\n",
    "        state_action_pairs = []\n",
    "\n",
    "        for _ in range(num_steps):\n",
    "            if np.random.rand() < 0.95:\n",
    "                action = self.Policy[current_state]\n",
    "            else:\n",
    "                action = np.random.choice(self.nb_actions)\n",
    "\n",
    "            state_action_pairs.append((current_state, action))\n",
    "\n",
    "            # Get next state based on transition probabilities for the chosen action\n",
    "            probabilities = self.T[current_state, action]\n",
    "            next_state = np.random.choice(self.nb_states, p=probabilities)\n",
    "\n",
    "            current_state = next_state\n",
    "\n",
    "        return state_action_pairs\n"
   ]
  },
  {
   "cell_type": "markdown",
   "metadata": {},
   "source": [
    "#### Let's test the class"
   ]
  }
 ],
 "metadata": {
  "kernelspec": {
   "display_name": "Python 3",
   "language": "python",
   "name": "python3"
  },
  "language_info": {
   "codemirror_mode": {
    "name": "ipython",
    "version": 3
   },
   "file_extension": ".py",
   "mimetype": "text/x-python",
   "name": "python",
   "nbconvert_exporter": "python",
   "pygments_lexer": "ipython3",
   "version": "3.11.5"
  }
 },
 "nbformat": 4,
 "nbformat_minor": 2
}
