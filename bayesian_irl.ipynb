{
 "cells": [
  {
   "cell_type": "markdown",
   "metadata": {},
   "source": [
    "# Project : Bayesian Inverse Reinforcement Learning"
   ]
  },
  {
   "cell_type": "markdown",
   "metadata": {},
   "source": [
    "### Importing required libraries"
   ]
  },
  {
   "cell_type": "code",
   "execution_count": 17,
   "metadata": {},
   "outputs": [],
   "source": [
    "import numpy as np\n",
    "import seaborn as sns\n",
    "import matplotlib.pyplot as plt\n",
    "from matplotlib.colors import ListedColormap\n",
    "from collections import defaultdict\n",
    "import random"
   ]
  },
  {
   "cell_type": "markdown",
   "metadata": {},
   "source": [
    "The ACTION_TO_INDEX dictionary provides an index for a particular action in our Markov Decision Process environment. This mapping helps a lot in the representation and handling of actions in our algorithms.\n",
    "\n",
    "Here is how actions are represented:\n",
    "\n",
    "'L' (Left): 0\n",
    "'R' (Right): 1\n",
    "'U' (Up): 2\n",
    "'D' (Down): 3\n",
    "\n",
    "This is because our dictionary is invoked in many functions and methods of our code so that actions can easily be identified properly by their index to enhance the clarity and efficiency of our computational procedures."
   ]
  },
  {
   "cell_type": "code",
   "execution_count": 10,
   "metadata": {},
   "outputs": [],
   "source": [
    "ACTION_TO_INDEX = {'L': 0, 'R': 1, 'U': 2, 'D': 3}"
   ]
  },
  {
   "cell_type": "markdown",
   "metadata": {},
   "source": [
    "The following class (`PartialMDP`) simulates a grid-based MDP environment"
   ]
  },
  {
   "cell_type": "code",
   "execution_count": 14,
   "metadata": {},
   "outputs": [],
   "source": [
    "class PartialMDP:\n",
    "    def __init__(self, rows=8, columns=8, slip_probability=0.2, gamma=0.9):\n",
    "        \"\"\"\n",
    "        Initializes a partially defined Markov Decision Process.\n",
    "        \n",
    "        Parameters:\n",
    "        states (list): List of all possible states.\n",
    "        actions (dict): Dictionary where keys are states and values are lists of possible actions from that state.\n",
    "        transition_probabilities (dict): Nested dictionary where keys are (state, action) tuples and values are\n",
    "                                         lists of (probability, next_state) tuples.\n",
    "        gamma (float): Discount factor for future rewards.\n",
    "        \"\"\"\n",
    "        self.rows = rows\n",
    "        self.columns = columns\n",
    "        self.slip_probability = slip_probability\n",
    "        self.gamma = gamma\n",
    "        self.states = [(i, j) for i in range(0, rows) for j in range(0, columns)]\n",
    "        self.actions = ['L', 'R', 'U', 'D']\n",
    "        self.transitions = self.initialize_transitions()\n",
    "        self.grid_visual = np.zeros((rows, columns))\n",
    "        self.rewards = np.zeros((rows, columns))\n",
    "        self.setup_features()\n",
    "        self.value_function = {state: 0.0 for state in self.states}\n",
    "        self.policy = {state: 'R' for state in self.states} # Here we set initial policy to 'Right' for all states\n",
    "\n",
    "    def initialize_transitions(self):\n",
    "        transitions = {}\n",
    "        for state in self.states:\n",
    "            transitions[state] = {}\n",
    "            for action in self.find_actions(state):\n",
    "                transitions[state][action] = self.calculate_transitions(state, action)\n",
    "        return transitions\n",
    "    \n",
    "    def find_actions(self, state):\n",
    "        x, y = state\n",
    "        if (x, y) == (0, 0):\n",
    "            return ['D', 'R']\n",
    "        elif (x, y) == (self.rows - 1, self.columns - 1):\n",
    "            return ['U', 'L']\n",
    "        elif (x, y) == (0, self.columns - 1):\n",
    "            return ['L', 'D']\n",
    "        elif (x, y) == (self.rows - 1, 0):\n",
    "            return ['R', 'U']\n",
    "        elif x == 0:\n",
    "            return ['D', 'L', 'R']\n",
    "        elif x == self.rows - 1:\n",
    "            return ['U', 'L', 'R']\n",
    "        elif y == 0:\n",
    "            return ['U', 'D', 'R']\n",
    "        elif y == self.columns - 1:\n",
    "            return ['U', 'D', 'L']\n",
    "        else:\n",
    "            return self.actions\n",
    "\n",
    "    def calculate_transitions(self, state, action):\n",
    "        x, y = state\n",
    "        next_state = self.move(x, y, action)\n",
    "        transitions = []\n",
    "        if next_state != state:\n",
    "            slip_states = [self.move(x, y, a) for a in self.get_perpendicular_actions(action)]\n",
    "            transitions = [(self.slip_probability / 2, slip) for slip in slip_states]\n",
    "            transitions.append((1 - self.slip_probability, next_state))\n",
    "        else:\n",
    "            transitions = [(1, next_state)]\n",
    "        return transitions\n",
    "    \n",
    "    def move(self, x, y, action):\n",
    "        if action == 'L' and y > 0:\n",
    "            return (x, y - 1)\n",
    "        elif action == 'R' and y < self.columns - 1:\n",
    "            return (x, y + 1)\n",
    "        elif action == 'U' and x > 0:\n",
    "            return (x - 1, y)\n",
    "        elif action == 'D' and x < self.rows - 1:\n",
    "            return (x + 1, y)\n",
    "        return (x, y)\n",
    "\n",
    "    def get_perpendicular_actions(self, action):\n",
    "        return ['U', 'D'] if action in ['L', 'R'] else ['L', 'R']\n",
    "    \n",
    "    def setup_features(self):\n",
    "        # Defining a random of a gridworld with some features\n",
    "        treasure_location = [(7, 0)]\n",
    "        bomb_locations = [(1, 3), (2, 6), (5, 2)]\n",
    "        mud_locations = [(0, 2), (0, 5), (1, 5), (6, 2), (7, 2), (7, 5), (6, 5), (1, 2)]\n",
    "        water_locations = [(row, col) for row in range(1, 3) for col in range(0, 3)]\n",
    "        mountain_locations = [(row, col) for row in range(4, 6) for col in range(2, 5)]\n",
    "\n",
    "        # Setting rewards and transition probabilities for special features\n",
    "        for state in self.states:\n",
    "            x, y = state[0], state[1]\n",
    "            if state in mud_locations:\n",
    "                self.rewards[x][y] = -2\n",
    "            elif state in water_locations:\n",
    "                self.rewards[x][y] = -1\n",
    "            elif state in mountain_locations:\n",
    "                self.rewards[x][y] = -1.5\n",
    "            elif state in bomb_locations:\n",
    "                self.rewards[x][y] = -100\n",
    "            elif state == treasure_location:\n",
    "                self.rewards[x][y] = 100\n",
    "\n",
    "    def show_environment(self):\n",
    "        # Visual representation for debugging\n",
    "        env_visual = np.zeros((self.rows, self.columns))\n",
    "        mud_locations = [(0, 2), (0, 5), (1, 5), (6, 2), (7, 2), (7, 5), (6, 5), (1, 2)]\n",
    "        water_locations = [(row, col) for row in range(1, 3) for col in range(0, 3)]\n",
    "        mountain_locations = [(row, col) for row in range(4, 6) for col in range(2, 5)]\n",
    "        bomb_locations = [(1, 3), (2, 6), (5, 2)]\n",
    "        treasure_location = [(7, 0)]\n",
    "        for x, y in mud_locations:\n",
    "            env_visual[x][y] = 0.5  \n",
    "        for x, y in water_locations:\n",
    "            env_visual[x][y] = 0.75 \n",
    "        for x, y in mountain_locations:\n",
    "            env_visual[x][y] = 1  \n",
    "        for x, y in bomb_locations:\n",
    "            env_visual[x][y] = -1 \n",
    "        env_visual[treasure_location[0]] = 2  \n",
    "\n",
    "        cmap = ListedColormap(sns.color_palette(\"coolwarm\", n_colors=10).as_hex())\n",
    "\n",
    "        plt.figure(figsize=(10, 8))\n",
    "        sns.heatmap(env_visual, cmap=cmap, annot=True, cbar=False,\n",
    "                    linewidths=.5, square=True, fmt=\"\",\n",
    "                    xticklabels=list(range(1, 9)),\n",
    "                    yticklabels=[chr(i) for i in range(ord('A'), ord('H') + 1)])\n",
    "        ax = plt.gca()\n",
    "        plt.title('GridWorld MDP State Visualization')\n",
    "\n",
    "        plt.show()"
   ]
  },
  {
   "cell_type": "markdown",
   "metadata": {},
   "source": [
    "### Gridworld instantiation"
   ]
  },
  {
   "cell_type": "code",
   "execution_count": 15,
   "metadata": {},
   "outputs": [
    {
     "data": {
      "image/png": "[encoded data removed]",
      "text/plain": [
       "<Figure size 1000x800 with 1 Axes>"
      ]
     },
     "metadata": {},
     "output_type": "display_data"
    }
   ],
   "source": [
    "# Instantiate the gridworld MDP\n",
    "gridworld = PartialMDP()\n",
    "gridworld.show_environment()"
   ]
  },
  {
   "cell_type": "markdown",
   "metadata": {},
   "source": [
    "### Transition probabilities calculation"
   ]
  },
  {
   "cell_type": "code",
   "execution_count": 16,
   "metadata": {},
   "outputs": [
    {
     "name": "stdout",
     "output_type": "stream",
     "text": [
      "Transitions for state (3, 3) and action R :\n",
      "Probability: 0.1 -> Next State: (2, 3)\n",
      "Probability: 0.1 -> Next State: (4, 3)\n",
      "Probability: 0.8 -> Next State: (3, 4)\n"
     ]
    }
   ],
   "source": [
    "state = (3, 3)\n",
    "action = 'R'\n",
    "\n",
    "transitions = gridworld.calculate_transitions(state, action)\n",
    "\n",
    "print(\"Transitions for state\", state, \"and action\", action, \":\")\n",
    "for prob, next_state in transitions:\n",
    "    print(\"Probability:\", prob, \"-> Next State:\", next_state)"
   ]
  },
  {
   "cell_type": "markdown",
   "metadata": {},
   "source": [
    "## Partial MDP generalisation"
   ]
  },
  {
   "cell_type": "markdown",
   "metadata": {},
   "source": [
    "The following code defines a class `RandomPartialMDP` that simulates a grid-based MDP environment with randomly assigned features. "
   ]
  },
  {
   "cell_type": "markdown",
   "metadata": {},
   "source": [
    "#### GridWorld generalization"
   ]
  },
  {
   "cell_type": "code",
   "execution_count": 18,
   "metadata": {},
   "outputs": [],
   "source": [
    "class RandomPartialMDP:\n",
    "    def __init__(self, rows=8, columns=8, slip_probability=0.2, gamma=0.9, feature_counts=None):\n",
    "        self.rows = rows\n",
    "        self.columns = columns\n",
    "        self.slip_probability = slip_probability\n",
    "        self.gamma = gamma\n",
    "        self.states = [(i, j) for i in range(rows) for j in range(columns)]\n",
    "        self.actions = ['L', 'R', 'U', 'D']\n",
    "        self.transitions = self.initialize_transitions()\n",
    "        self.grid_visual = np.zeros((self.rows, self.columns))\n",
    "        if feature_counts is None:\n",
    "            feature_counts = {}\n",
    "        self.grid_features = self.randomize_features(feature_counts)\n",
    "        self.rewards = self.get_rewards()\n",
    "\n",
    "    def initialize_transitions(self):\n",
    "        transitions = {}\n",
    "        for state in self.states:\n",
    "            transitions[state] = {}\n",
    "            for action in self.actions:\n",
    "                transitions[state][action] = self.calculate_transitions(state, action)\n",
    "        return transitions\n",
    "\n",
    "    def calculate_transitions(self, state, action):\n",
    "        x, y = state\n",
    "        next_state = self.move(x, y, action)\n",
    "        transitions = []\n",
    "        if next_state != state:\n",
    "            slip_states = [self.move(x, y, a) for a in self.get_perpendicular_actions(action)]\n",
    "            transitions = [(self.slip_probability / 2, slip) for slip in slip_states]\n",
    "            transitions.append((1 - self.slip_probability, next_state))\n",
    "        else:\n",
    "            transitions = [(1, next_state)]\n",
    "        return transitions\n",
    "\n",
    "    def move(self, x, y, action):\n",
    "        if action == 'L' and y > 0:\n",
    "            return (x, y - 1)\n",
    "        elif action == 'R' and y < self.columns - 1:\n",
    "            return (x, y + 1)\n",
    "        elif action == 'U' and x > 0:\n",
    "            return (x - 1, y)\n",
    "        elif action == 'D' and x < self.rows - 1:\n",
    "            return (x + 1, y)\n",
    "        return (x, y)\n",
    "\n",
    "    def get_perpendicular_actions(self, action):\n",
    "        return ['U', 'D'] if action in ['L', 'R'] else ['L', 'R']\n",
    "\n",
    "    def randomize_features(self, feature_counts):\n",
    "        features = ['Treasure', 'Bomb', 'Mud', 'Water', 'Mountain']\n",
    "        grid_features = defaultdict(list)\n",
    "        available_states = list(self.states)\n",
    "\n",
    "        for feature, count in feature_counts.items():\n",
    "            if count > len(available_states):\n",
    "                raise ValueError(f\"Not enough available states to place {count} {feature}(s)\")\n",
    "            chosen_states = random.sample(available_states, count)\n",
    "            for state in chosen_states:\n",
    "                grid_features[state].append(feature)\n",
    "                available_states.remove(state)\n",
    "\n",
    "        return grid_features\n",
    "\n",
    "    def get_rewards(self):\n",
    "        # Assume the initial rewards are set to some default value, e.g., zeros\n",
    "        rewards = np.zeros((self.rows, self.columns))\n",
    "\n",
    "        # Update rewards based on features\n",
    "        for (x, y), features in self.grid_features.items():\n",
    "            for feature in features:\n",
    "                if feature == 'Mud':\n",
    "                    rewards[x, y] -= 0.5\n",
    "                elif feature == 'Water':\n",
    "                    rewards[x, y] -= 0.75\n",
    "                elif feature == 'Mountain':\n",
    "                    rewards[x, y] -= 1\n",
    "                elif feature == 'Bomb':\n",
    "                    rewards[x, y] -= 10\n",
    "                elif feature == 'Treasure':\n",
    "                    rewards[x, y] += 20\n",
    "        return rewards\n",
    "\n",
    "    def show_environment(self):\n",
    "\n",
    "        env_visual = np.zeros((self.rows, self.columns))\n",
    "        cmap = ListedColormap(sns.color_palette(\"coolwarm\", n_colors=10).as_hex())\n",
    "        plt.figure(figsize=(10, 8))\n",
    "\n",
    "        for state, features in self.grid_features.items():\n",
    "            for feature in features:\n",
    "                if feature == 'Mud':\n",
    "                    env_visual[state[0]][state[1]] = 0.5\n",
    "                elif feature == 'Water':\n",
    "                    env_visual[state[0]][state[1]] = 0.75\n",
    "                elif feature == 'Mountain':\n",
    "                    env_visual[state[0]][state[1]] = 1\n",
    "                elif feature == 'Bomb':\n",
    "                    env_visual[state[0]][state[1]] = -1\n",
    "                elif feature == 'Treasure':\n",
    "                    env_visual[state[0]][state[1]] = 2\n",
    "\n",
    "        sns.heatmap(env_visual, cmap=cmap, annot=True, cbar=False,\n",
    "                    linewidths=.5, square=True, fmt=\"\",\n",
    "                    xticklabels=list(range(1, self.columns + 1)),\n",
    "                    yticklabels=[chr(i) for i in range(ord('A'), ord('A') + self.rows)])\n",
    "        plt.title('Randomly Generated MDP State Visualization')\n",
    "        plt.show()"
   ]
  },
  {
   "cell_type": "markdown",
   "metadata": {},
   "source": [
    "#### Test"
   ]
  },
  {
   "cell_type": "code",
   "execution_count": 19,
   "metadata": {},
   "outputs": [
    {
     "data": {
      "image/png": "[encoded data removed]",
      "text/plain": [
       "<Figure size 1000x800 with 1 Axes>"
      ]
     },
     "metadata": {},
     "output_type": "display_data"
    }
   ],
   "source": [
    "feature_counts = {'Treasure': 6, 'Bomb': 12, 'Mud': 10, 'Water': 8, 'Mountain': 6}\n",
    "random_mdp = RandomPartialMDP(feature_counts=feature_counts)\n",
    "random_mdp.show_environment()"
   ]
  },
  {
   "cell_type": "markdown",
   "metadata": {},
   "source": [
    "With our gridworld environment now established and modeled as a Markov Decision Process (MDP), we can proceed to explore algorithms designed to solve MDPs. In this context, we will focus specifically on the Policy Iteration algorithm.\n",
    "\n",
    "We'll create a class for this algorithm with these 3 methods: \\\n",
    "    - **Evaluation** with evaluate method \\\n",
    "    - **Iteration** with iterate method \\\n",
    "    - **Improvement** with impove method"
   ]
  },
  {
   "cell_type": "code",
   "execution_count": 20,
   "metadata": {},
   "outputs": [],
   "source": [
    "class PolicyIteration:\n",
    "    def __init__(self, mdp, reward_function, tolerance=1e-6, max_iter=1000):\n",
    "        self.mdp = mdp\n",
    "        self.reward_function = reward_function\n",
    "        self.tolerance = tolerance\n",
    "        self.max_iter = max_iter\n",
    "        # Set initial policy to 'Right' ('R') for all states\n",
    "        self.policy = {state: 'R' for state in mdp.states}\n",
    "\n",
    "    def evaluate_policy(self):\n",
    "        #inistailiser le\n",
    "        V = {state: 0 for state in self.mdp.states}\n",
    "\n",
    "        for _ in range(self.max_iter):\n",
    "            delta = 0\n",
    "            for state in self.mdp.states:\n",
    "                v = V[state]\n",
    "                action = self.policy[state]\n",
    "                next_states = self.mdp.transitions[state][action]\n",
    "                reward = self.mdp.rewards[state[0], state[1]]  # Fetch dynamic reward\n",
    "                expected_value = sum(prob * (self.reward_function[state] + self.mdp.gamma * V[next_state]) for prob, next_state in next_states)\n",
    "                V[state] = expected_value\n",
    "                delta = max(delta, abs(v - V[state]))\n",
    "            if delta < self.tolerance:\n",
    "                break\n",
    "\n",
    "        return V\n",
    "\n",
    "    def improve_policy(self, V):\n",
    "        stable = True\n",
    "        for state in self.mdp.states:\n",
    "            old_action = self.policy[state]\n",
    "            best_action = None\n",
    "            best_value = float('-inf')\n",
    "            for action in self.mdp.actions:\n",
    "                action_idx = ACTION_TO_INDEX[action]\n",
    "                next_states = self.mdp.transitions[state][action]\n",
    "                value = sum(prob * (self.reward_function[state] + self.mdp.gamma * V[next_state]) for prob, next_state in next_states)\n",
    "                if value > best_value:\n",
    "                    best_value = value\n",
    "                    best_action = action\n",
    "            self.policy[state] = best_action\n",
    "            if old_action != best_action:\n",
    "                stable = False\n",
    "        return stable\n",
    "\n",
    "    def solve(self):\n",
    "        for _ in range(self.max_iter):\n",
    "            V = self.evaluate_policy()\n",
    "            stable = self.improve_policy(V)\n",
    "            if stable:\n",
    "                break\n",
    "        return V, self.policy\n"
   ]
  },
  {
   "cell_type": "markdown",
   "metadata": {},
   "source": [
    "### Testing the algorithm"
   ]
  },
  {
   "cell_type": "code",
   "execution_count": 21,
   "metadata": {},
   "outputs": [
    {
     "name": "stdout",
     "output_type": "stream",
     "text": [
      "Optimal Values:\n",
      "{(0, 0): 52.791352793204986, (0, 1): 60.649323109365056, (0, 2): 70.14923582481399, (0, 3): 61.61658625233839, (0, 4): 68.63774451405185, (0, 5): 68.6269828107303, (0, 6): 76.647487587584, (0, 7): 61.08955528109227, (1, 0): 54.14020993110242, (1, 1): 60.37149662536076, (1, 2): 82.14625610831823, (1, 3): 61.818264243398325, (1, 4): 79.04975547737865, (1, 5): 78.54348970711848, (1, 6): 90.24027753993252, (1, 7): 81.51836394844642, (2, 0): 61.57521815630503, (2, 1): 64.0861510470107, (2, 2): 71.04052507491883, (2, 3): 79.19407949628874, (2, 4): 92.94055319059575, (2, 5): 82.15624558155895, (2, 6): 106.36765471545306, (2, 7): 92.44456505013505, (3, 0): 70.85513290270215, (3, 1): 72.43157612872288, (3, 2): 79.95401340169221, (3, 3): 85.70264551861507, (3, 4): 74.15087851041665, (3, 5): 94.47356452401824, (3, 6): 98.1299756377587, (3, 7): 103.03556638588988, (4, 0): 81.54073591169916, (4, 1): 81.74826896345544, (4, 2): 91.28046411004678, (4, 3): 99.76834161198603, (4, 4): 86.28069976703236, (4, 5): 110.37262273801048, (4, 6): 125.49188135285654, (4, 7): 118.65370594935007, (5, 0): 92.83989755574261, (5, 1): 105.82550230709805, (5, 2): 104.08884704632746, (5, 3): 117.06644109376148, (5, 4): 107.455574593098, (5, 5): 127.51818217656978, (5, 6): 145.66598958705953, (5, 7): 135.3202830217544, (6, 0): 103.40967067275524, (6, 1): 123.05821666716778, (6, 2): 116.70635120119405, (6, 3): 136.84367205541884, (6, 4): 132.55966561166687, (6, 5): 141.16815963523243, (6, 6): 169.4590673142605, (6, 7): 152.82155440702297, (7, 0): 82.80182879100195, (7, 1): 105.61499233095243, (7, 2): 106.2323535636844, (7, 3): 120.7192651051202, (7, 4): 149.35916876622113, (7, 5): 172.20343671336428, (7, 6): 199.99999140840072, (7, 7): 173.35597102672693}\n",
      "\n",
      "Optimal Policy:\n",
      "{(0, 0): 'R', (0, 1): 'R', (0, 2): 'D', (0, 3): 'L', (0, 4): 'D', (0, 5): 'D', (0, 6): 'D', (0, 7): 'D', (1, 0): 'D', (1, 1): 'R', (1, 2): 'D', (1, 3): 'L', (1, 4): 'D', (1, 5): 'R', (1, 6): 'D', (1, 7): 'D', (2, 0): 'D', (2, 1): 'D', (2, 2): 'U', (2, 3): 'R', (2, 4): 'R', (2, 5): 'R', (2, 6): 'D', (2, 7): 'L', (3, 0): 'D', (3, 1): 'D', (3, 2): 'D', (3, 3): 'D', (3, 4): 'R', (3, 5): 'D', (3, 6): 'D', (3, 7): 'D', (4, 0): 'D', (4, 1): 'D', (4, 2): 'D', (4, 3): 'D', (4, 4): 'D', (4, 5): 'D', (4, 6): 'D', (4, 7): 'D', (5, 0): 'R', (5, 1): 'D', (5, 2): 'D', (5, 3): 'D', (5, 4): 'D', (5, 5): 'R', (5, 6): 'D', (5, 7): 'D', (6, 0): 'R', (6, 1): 'R', (6, 2): 'R', (6, 3): 'R', (6, 4): 'D', (6, 5): 'D', (6, 6): 'D', (6, 7): 'D', (7, 0): 'R', (7, 1): 'U', (7, 2): 'R', (7, 3): 'R', (7, 4): 'R', (7, 5): 'R', (7, 6): 'D', (7, 7): 'L'}\n"
     ]
    }
   ],
   "source": [
    "reward_function = random_mdp.rewards\n",
    "policy_iteration = PolicyIteration(random_mdp, reward_function)\n",
    "optimal_values, optimal_policy = policy_iteration.solve()\n",
    "print(\"Optimal Values:\")\n",
    "print(optimal_values)\n",
    "print(\"\\nOptimal Policy:\")\n",
    "print(optimal_policy)"
   ]
  },
  {
   "cell_type": "markdown",
   "metadata": {},
   "source": [
    "## Imperfect tutor simulator"
   ]
  },
  {
   "cell_type": "markdown",
   "metadata": {},
   "source": [
    "The following class `ImperfectTutorSimulation` describes a tutor that simulates an agent following a policy in an MDP with some probability of taking suboptimal actions. "
   ]
  },
  {
   "cell_type": "code",
   "execution_count": 22,
   "metadata": {},
   "outputs": [],
   "source": [
    "class ImperfectTutorSimulation:\n",
    "    def __init__(self, mdp, reward_function, policy, optimal_action_prob=0.95):\n",
    "        self.mdp = mdp\n",
    "        self.reward_function = reward_function\n",
    "        self.policy = policy\n",
    "        self.optimal_action_prob = optimal_action_prob\n",
    "\n",
    "    def simulate(self, s0, M):\n",
    "        state_action_pairs = []\n",
    "        current_state = s0\n",
    "\n",
    "        for _ in range(M):\n",
    "            if random.random() < self.optimal_action_prob:\n",
    "                action = self.policy[current_state]\n",
    "            else:\n",
    "                action = random.choice(self.mdp.actions)\n",
    "\n",
    "            state_action_pairs.append((current_state, action))\n",
    "\n",
    "            # how to get the next state based on chosen action\n",
    "            next_states = self.mdp.transitions[current_state][action]\n",
    "            probabilities, states = zip(*next_states)\n",
    "            next_state = random.choices(states, probabilities)[0]\n",
    "\n",
    "            current_state = next_state\n",
    "\n",
    "        return state_action_pairs\n",
    "\n",
    "    def generate_observations(mdp, policy, initial_state, num_steps):\n",
    "        simulator = ImperfectTutorSimulation(mdp, policy, optimal_action_prob=0.95)\n",
    "        return simulator.simulate(initial_state, num_steps)"
   ]
  },
  {
   "cell_type": "markdown",
   "metadata": {},
   "source": [
    "#### Testing the tutor"
   ]
  },
  {
   "cell_type": "code",
   "execution_count": 23,
   "metadata": {},
   "outputs": [
    {
     "name": "stdout",
     "output_type": "stream",
     "text": [
      "Generated State-Action Pairs:\n",
      "[((0, 0), 'R'), ((1, 0), 'D'), ((2, 0), 'D'), ((2, 0), 'D'), ((3, 0), 'D'), ((3, 0), 'D'), ((4, 0), 'D'), ((5, 0), 'R'), ((5, 1), 'D'), ((6, 1), 'R')]\n"
     ]
    }
   ],
   "source": [
    "imperfect_tutor = ImperfectTutorSimulation(random_mdp, reward_function, optimal_policy)\n",
    "initial_state = (0, 0)\n",
    "num_timesteps = 10\n",
    "state_action_pairs = imperfect_tutor.simulate(initial_state, num_timesteps)\n",
    "\n",
    "print(\"Generated State-Action Pairs:\")\n",
    "print(state_action_pairs)"
   ]
  },
  {
   "cell_type": "markdown",
   "metadata": {},
   "source": [
    "Now, we are going to work step by step for the **Bayesian framework**. We will first try to define some classes representing priors (Spoiler Alert: we won't use all the priors :)) then we will iteratively calculate the **Q-values** for all state-action pairs in the MDP using a method similar to value iteration, considering the rewards and the probability of transitioning to other states."
   ]
  },
  {
   "cell_type": "code",
   "execution_count": 24,
   "metadata": {},
   "outputs": [],
   "source": [
    "class UniformPrior:\n",
    "    def __init__(self, R_max):\n",
    "        self.R_max = R_max\n",
    "\n",
    "    def prior(self, R):\n",
    "        return 1 if np.max(np.abs(R)) <= self.R_max else 0\n",
    "\n",
    "class GaussianPrior:\n",
    "    def __init__(self, sigma):\n",
    "        self.sigma = sigma\n",
    "\n",
    "    def prior(self, R):\n",
    "        return np.exp(-np.sum(R**2) / (2 * self.sigma**2))\n",
    "\n",
    "class BetaPrior:\n",
    "    def __init__(self, R_max):\n",
    "        self.R_max = R_max\n",
    "\n",
    "    def prior(self, R):\n",
    "        R_normalized = R / self.R_max\n",
    "        return np.prod(R_normalized**0.5 * (1 - R_normalized)**0.5)\n"
   ]
  },
  {
   "cell_type": "code",
   "execution_count": 25,
   "metadata": {},
   "outputs": [],
   "source": [
    "class QValueCalculator:\n",
    "    def __init__(self, mdp):\n",
    "        self.mdp = mdp\n",
    "\n",
    "    def calculate_q_values(self, R):\n",
    "        Q = np.zeros((self.mdp.rows, self.mdp.columns, len(self.mdp.actions)))\n",
    "        for _ in range(100):\n",
    "            for state in self.mdp.states:\n",
    "                x, y = state\n",
    "                for action_idx, action in enumerate(self.mdp.actions):\n",
    "                    action_idx = ACTION_TO_INDEX[action]\n",
    "                    transitions = self.mdp.transitions[state][action]\n",
    "                    Q[x, y, action_idx] = R[x, y] + self.mdp.gamma * sum(prob * Q[next_x, next_y].max() for prob, (next_x, next_y) in transitions)\n",
    "        return Q\n"
   ]
  },
  {
   "cell_type": "code",
   "execution_count": 26,
   "metadata": {},
   "outputs": [],
   "source": [
    "class LikelihoodCalculator:\n",
    "    def __init__(self, mdp, alpha):\n",
    "        self.mdp = mdp\n",
    "        self.alpha = alpha\n",
    "\n",
    "    def likelihood(self, Q, observations):\n",
    "        likelihood = 1.0\n",
    "        for state, action in observations:\n",
    "            x, y = state\n",
    "            action_idx = self.mdp.actions.index(action)\n",
    "            exp_q = np.exp(self.alpha * Q[x, y])\n",
    "            likelihood *= np.exp(self.alpha * Q[x, y, action_idx]) / np.sum(exp_q)\n",
    "        return likelihood\n"
   ]
  },
  {
   "cell_type": "code",
   "execution_count": 28,
   "metadata": {},
   "outputs": [],
   "source": [
    "class PosteriorCalculator:\n",
    "    def __init__(self, prior, q_calculator, likelihood_calculator):\n",
    "        self.prior = prior\n",
    "        self.q_calculator = q_calculator\n",
    "        self.likelihood_calculator = likelihood_calculator\n",
    "\n",
    "    def posterior(self, R, observations):\n",
    "        Q = self.q_calculator.calculate_q_values(R)\n",
    "        likelihood = self.likelihood_calculator.likelihood(Q, observations)\n",
    "        return self.prior.prior(R) * likelihood\n"
   ]
  },
  {
   "cell_type": "code",
   "execution_count": 27,
   "metadata": {},
   "outputs": [],
   "source": [
    "class RatioCalculator:\n",
    "    def __init__(self, posterior_calculator):\n",
    "        self.posterior_calculator = posterior_calculator\n",
    "\n",
    "    def compute_ratio(self, R1, R2, observations):\n",
    "        posterior_R1 = self.posterior_calculator.posterior(R1, observations)\n",
    "        posterior_R2 = self.posterior_calculator.posterior(R2, observations)\n",
    "        return posterior_R1 / posterior_R2\n"
   ]
  },
  {
   "cell_type": "markdown",
   "metadata": {},
   "source": [
    "Instantiating all the classes created"
   ]
  },
  {
   "cell_type": "code",
   "execution_count": 30,
   "metadata": {},
   "outputs": [
    {
     "name": "stdout",
     "output_type": "stream",
     "text": [
      "Ratio of P(R1|O) / P(R2|O): 0.6510697496260427\n"
     ]
    }
   ],
   "source": [
    "uniform_prior = UniformPrior(R_max=1)\n",
    "gaussian_prior = GaussianPrior(sigma=1)\n",
    "beta_prior = BetaPrior(R_max=1)\n",
    "\n",
    "q_calculator = QValueCalculator(random_mdp)\n",
    "likelihood_calculator = LikelihoodCalculator(random_mdp, alpha=1)\n",
    "\n",
    "posterior_calculator = PosteriorCalculator(gaussian_prior, q_calculator, likelihood_calculator)\n",
    "ratio_calculator = RatioCalculator(posterior_calculator)\n",
    "\n",
    "R1 = np.random.rand(random_mdp.rows, random_mdp.columns)\n",
    "R2 = np.random.rand(random_mdp.rows, random_mdp.columns) \n",
    "observations = [((0, 0), 'R'), ((1, 0), 'D')]\n",
    "ratio = ratio_calculator.compute_ratio(R1, R2, observations)\n",
    "print(f\"Ratio of P(R1|O) / P(R2|O): {ratio}\")"
   ]
  },
  {
   "cell_type": "markdown",
   "metadata": {},
   "source": [
    "## Policy Walk"
   ]
  },
  {
   "cell_type": "markdown",
   "metadata": {},
   "source": [
    "In this section, we're going to explore the **Policy Walk** algorithm. This method helps us improve the reward function of a MDP step by step to find the best possible policy. The idea behind PolicyWalk is to tweak the reward function slightly and then see how those changes affect the policies that come out of it.\n",
    "\n",
    "This approach is especially handy for complex MDPs where the reward function isn't clearly defined or is tricky to figure out. By experimenting with small adjustments, we can gradually discover a reward structure that works well, even if we don't have a perfect definition of rewards at the start.\n",
    "\n",
    "The following class `PolicyWalk` performs a policy walk to find an optimal reward function for an MDP."
   ]
  },
  {
   "cell_type": "code",
   "execution_count": 31,
   "metadata": {},
   "outputs": [],
   "source": [
    "class PolicyWalk:\n",
    "    def __init__(self, mdp, prior, posterior_calculator, observations, step_size=0.1, iterations=5):\n",
    "        self.mdp = mdp\n",
    "        self.prior = prior\n",
    "        self.posterior_calculator = posterior_calculator\n",
    "        self.observations = observations\n",
    "        self.step_size = step_size\n",
    "        self.iterations = iterations\n",
    "\n",
    "    def walk(self):\n",
    "        R = self.random_reward_vector()\n",
    "        pi = self.policy_iteration(R)\n",
    "        best_R = R\n",
    "        best_posterior = self.posterior_calculator.posterior(R, observations)\n",
    "\n",
    "        for _ in range(self.iterations):\n",
    "            R_prime = self.neighbor_reward_vector(R)\n",
    "            Q_prime = self.calculate_Q_values(R_prime)\n",
    "\n",
    "            if self.is_policy_improvement(Q_prime, pi):\n",
    "                pi_prime = self.policy_iteration(R_prime, pi)\n",
    "                accept_prob = min(1, self.posterior_calculator.posterior(R_prime, observations) / self.posterior_calculator.posterior(R, observations))\n",
    "\n",
    "                if np.random.rand() < accept_prob:\n",
    "                    R, pi = R_prime, pi_prime\n",
    "\n",
    "            else:\n",
    "                accept_prob = min(1, self.posterior_calculator.posterior(R_prime, observations) / self.posterior_calculator.posterior(R, observations))\n",
    "\n",
    "                if np.random.rand() < accept_prob:\n",
    "                    R = R_prime\n",
    "\n",
    "            current_posterior = self.posterior_calculator.posterior(R, observations)\n",
    "\n",
    "            if current_posterior > best_posterior:\n",
    "                best_R, best_posterior = R, current_posterior\n",
    "\n",
    "        return best_R\n",
    "\n",
    "\n",
    "    def random_reward_vector(self):\n",
    "        np.random.seed(42)\n",
    "        return np.random.uniform(-1, 1, size=(self.mdp.rows, self.mdp.columns))\n",
    "\n",
    "\n",
    "    def neighbor_reward_vector(self, R):\n",
    "        R_prime = R.copy()\n",
    "        i,j = np.random.randint(0, R.shape[0]), np.random.randint(0, R.shape[1])\n",
    "        R_prime[i, j] += np.random.choice([-self.step_size, self.step_size])\n",
    "        return np.clip(R_prime, -1, 1)\n",
    "\n",
    "\n",
    "    def calculate_Q_values(self, R):\n",
    "        q_calculator = QValueCalculator(self.mdp)\n",
    "        return q_calculator.calculate_q_values(R)\n",
    "\n",
    "\n",
    "    def is_policy_improvement(self, Q, pi):\n",
    "        for (x,y) in self.mdp.states:\n",
    "            try:\n",
    "                pi_action = pi[x, y]\n",
    "                pi_action_index = ACTION_TO_INDEX[pi_action]  # Convert label to index\n",
    "                max_q_value = max(Q[x, y, a_idx] for a_idx in range(len(self.mdp.actions)))\n",
    "                pi_q_value = Q[x, y, pi_action_index]\n",
    "                if max_q_value > pi_q_value:\n",
    "                    return True\n",
    "            except IndexError as e:\n",
    "                print(f\"IndexError: pi[{x},{y}] = {pi[x,y]} with Q shape {Q.shape}\")\n",
    "                raise e\n",
    "        return False\n",
    "\n",
    "\n",
    "    def policy_iteration(self, R, pi=None):\n",
    "        policy_iter = PolicyIteration(self.mdp, R)\n",
    "        _, policy = policy_iter.solve()\n",
    "        return policy"
   ]
  },
  {
   "cell_type": "markdown",
   "metadata": {},
   "source": [
    "Instantiating the policy walk"
   ]
  },
  {
   "cell_type": "code",
   "execution_count": 32,
   "metadata": {},
   "outputs": [
    {
     "name": "stdout",
     "output_type": "stream",
     "text": [
      "Best reward function found: [[-0.25091976  0.90142861  0.46398788  0.19731697 -0.68796272 -0.68801096\n",
      "  -0.88383278  0.73235229]\n",
      " [ 0.20223002  0.41614516 -0.95883101  0.9398197   0.66488528 -0.57532178\n",
      "  -0.63635007 -0.63319098]\n",
      " [-0.39151551  0.04951286 -0.13610996 -0.41754172  0.22370579 -0.72101228\n",
      "  -0.4157107  -0.26727631]\n",
      " [-0.08786003  0.57035192 -0.60065244  0.02846888  0.18482914 -0.90709917\n",
      "   0.2150897  -0.65895175]\n",
      " [-0.86989681  0.89777107  0.93126407  0.6167947  -0.39077246 -0.80465577\n",
      "   0.36846605 -0.11969501]\n",
      " [-0.75592353 -0.00964618 -0.93122296  0.8186408  -0.48244004  0.32504457\n",
      "  -0.37657785  0.04013604]\n",
      " [ 0.09342056 -0.63029109  0.93916926  0.55026565  0.87899788  0.7896547\n",
      "   0.19579996  0.84374847]\n",
      " [-0.823015   -0.60803428 -0.90954542 -0.34933934 -0.22264542 -0.45730194\n",
      "   0.65747502 -0.28649335]]\n"
     ]
    }
   ],
   "source": [
    "posterior_calculator = PosteriorCalculator(gaussian_prior, q_calculator, likelihood_calculator)\n",
    "policy_walk = PolicyWalk(random_mdp, None, posterior_calculator, 0.1, 1000)\n",
    "best_reward = policy_walk.walk()\n",
    "print(\"Best reward function found:\", best_reward)"
   ]
  },
  {
   "cell_type": "markdown",
   "metadata": {},
   "source": [
    "Interpreting some best rewards values:\n",
    "Each value in this row corresponds to a specific state in the first row of the grid-based MDP environment. Here's a detailed interpretation:\n",
    "\n",
    "* State (0, 0): Reward = -0.25091976\n",
    "This state has a slightly negative reward, indicating a slightly undesirable state for the agent.\n",
    "\n",
    "* State (0, 1): Reward = 0.90142861\n",
    "This state has a high positive reward, making it a highly desirable state for the agent to reach.\n",
    "\n",
    "* State (0, 2): Reward = 0.46398788\n",
    "This state has a positive reward, though not as high as state (0, 1), indicating it is still desirable but to a lesser extent.\n",
    "\n",
    "* State (0, 3): Reward = 0.19731697\n",
    "This state has a moderate positive reward, making it somewhat desirable.\n",
    "\n",
    "* State (0, 4): Reward = -0.68796272\n",
    "This state has a significantly negative reward, indicating it is highly undesirable for the agent to visit.\n",
    "\n",
    "* State (0, 5): Reward = -0.68801096\n",
    "Similar to state (0, 4), this state also has a significantly negative reward, making it undesirable.\n",
    "\n",
    "* State (0, 6): Reward = -0.88383278\n",
    "This state has a very negative reward, strongly discouraging the agent from visiting it.\n",
    "\n",
    "* State (0, 7): Reward = 0.73235229\n",
    "This state has a high positive reward, making it a desirable state for the agent to aim for."
   ]
  },
  {
   "cell_type": "markdown",
   "metadata": {},
   "source": [
    "### Advanced version of policy walk"
   ]
  },
  {
   "cell_type": "markdown",
   "metadata": {},
   "source": [
    "The following class `CoolingPolicyWalk` performs a policy walk but with simulated annealing to find an optimal reward function for an MDP."
   ]
  },
  {
   "cell_type": "code",
   "execution_count": 33,
   "metadata": {},
   "outputs": [],
   "source": [
    "class CoolingPolicyWalk:\n",
    "    def __init__(self, mdp, prior, posterior_calculator, observations, step_size=0.1, iterations=5, initial_temp=1.0, cooling_rate=0.95):\n",
    "        self.mdp = mdp\n",
    "        self.prior = prior\n",
    "        self.posterior_calculator = posterior_calculator\n",
    "        self.observations = observations\n",
    "        self.step_size = step_size\n",
    "        self.iterations = iterations\n",
    "        self.temperature = initial_temp\n",
    "        self.cooling_rate = cooling_rate\n",
    "\n",
    "    def walk(self):\n",
    "        R = self.random_reward_vector()\n",
    "        pi = self.policy_iteration(R)\n",
    "        best_R = R\n",
    "        best_posterior = self.posterior_calculator.posterior(R, self.observations)\n",
    "\n",
    "        for i in range(self.iterations):\n",
    "            T = self.temperature * (self.cooling_rate ** i)  # Decaying temperature\n",
    "            if i % 5 == 0 or i == self.iterations - 1:\n",
    "                R_prime = self.neighbor_reward_vector(R)\n",
    "                Q_prime = self.calculate_Q_values(R_prime)\n",
    "\n",
    "                if self.is_policy_improvement(Q_prime, pi):\n",
    "                    pi_prime = self.policy_iteration(R_prime, pi)\n",
    "                    delta_posterior = np.log(self.posterior_calculator.posterior(R_prime, self.observations)) - np.log(self.posterior_calculator.posterior(R, self.observations))\n",
    "                    accept_prob = min(1, np.exp(delta_posterior / T))\n",
    "\n",
    "                    if np.random.rand() < accept_prob:\n",
    "                        R, pi = R_prime, pi_prime\n",
    "\n",
    "                else:\n",
    "                    delta_posterior = np.log(self.posterior_calculator.posterior(R_prime, self.observations)) - np.log(self.posterior_calculator.posterior(R, self.observations))\n",
    "                    accept_prob = min(1, np.exp(delta_posterior / T))\n",
    "\n",
    "                    if np.random.rand() < accept_prob:\n",
    "                        R = R_prime\n",
    "\n",
    "                current_posterior = self.posterior_calculator.posterior(R, self.observations)\n",
    "                if current_posterior > best_posterior:\n",
    "                    best_R, best_posterior = R, current_posterior\n",
    "\n",
    "            return best_R\n",
    "\n",
    "\n",
    "    def random_reward_vector(self):\n",
    "        np.random.seed(42)  # Optional: Seed for reproducibility\n",
    "        return np.random.uniform(-1, 1, size=(self.mdp.rows, self.mdp.columns))\n",
    "\n",
    "    def neighbor_reward_vector(self, R):\n",
    "        R_prime = R.copy()\n",
    "        i, j = np.random.randint(0, R.shape[0]), np.random.randint(0, R.shape[1])\n",
    "        R_prime[i, j] += np.random.choice([-self.step_size, self.step_size])\n",
    "        return np.clip(R_prime, -1, 1)\n",
    "\n",
    "    def calculate_Q_values(self, R):\n",
    "        q_calculator = QValueCalculator(self.mdp)\n",
    "        return q_calculator.calculate_q_values(R)\n",
    "\n",
    "    def is_policy_improvement(self, Q, pi):\n",
    "        for (x, y) in self.mdp.states:\n",
    "            try:\n",
    "                pi_action = pi[x, y]\n",
    "                pi_action_index = ACTION_TO_INDEX[pi_action]\n",
    "                max_q_value = max(Q[x, y, a_idx] for a_idx in range(len(self.mdp.actions)))\n",
    "                pi_q_value = Q[x, y, pi_action_index]\n",
    "                if max_q_value > pi_q_value:\n",
    "                    return True\n",
    "            except IndexError as e:\n",
    "                print(f\"IndexError: pi[{x},{y}] = {pi[x,y]} with Q shape {Q.shape}\")\n",
    "                raise e\n",
    "        return False\n",
    "\n",
    "    def policy_iteration(self, R, pi=None):\n",
    "        policy_iter = PolicyIteration(self.mdp, R)\n",
    "        _, policy = policy_iter.solve()\n",
    "        return policy"
   ]
  },
  {
   "cell_type": "markdown",
   "metadata": {},
   "source": [
    "Instantiating the cooling policy walk"
   ]
  },
  {
   "cell_type": "code",
   "execution_count": 35,
   "metadata": {},
   "outputs": [
    {
     "name": "stdout",
     "output_type": "stream",
     "text": [
      "Best reward function found: [[-0.25091976  0.90142861  0.46398788  0.19731697 -0.68796272 -0.68801096\n",
      "  -0.88383278  0.73235229]\n",
      " [ 0.20223002  0.41614516 -0.95883101  0.9398197   0.66488528 -0.57532178\n",
      "  -0.63635007 -0.63319098]\n",
      " [-0.39151551  0.04951286 -0.13610996 -0.41754172  0.22370579 -0.72101228\n",
      "  -0.4157107  -0.26727631]\n",
      " [-0.08786003  0.57035192 -0.60065244  0.02846888  0.18482914 -0.90709917\n",
      "   0.2150897  -0.65895175]\n",
      " [-0.86989681  0.89777107  0.93126407  0.6167947  -0.39077246 -0.80465577\n",
      "   0.36846605 -0.11969501]\n",
      " [-0.75592353 -0.00964618 -0.93122296  0.8186408  -0.48244004  0.32504457\n",
      "  -0.37657785  0.04013604]\n",
      " [ 0.09342056 -0.63029109  0.93916926  0.55026565  0.87899788  0.7896547\n",
      "   0.19579996  0.84374847]\n",
      " [-0.823015   -0.60803428 -0.90954542 -0.34933934 -0.22264542 -0.45730194\n",
      "   0.65747502 -0.28649335]]\n"
     ]
    }
   ],
   "source": [
    "cooling_policy_walk = CoolingPolicyWalk(random_mdp, gaussian_prior, posterior_calculator, observations, step_size=0.1, iterations=1000, initial_temp=1.0, cooling_rate=0.95)\n",
    "best_reward1 = cooling_policy_walk.walk()\n",
    "print(\"Best reward function found:\", best_reward1)"
   ]
  },
  {
   "cell_type": "markdown",
   "metadata": {},
   "source": [
    "In this section, we are going to evaluate the performances of Policy Walk and the Cooling Policy Walk"
   ]
  },
  {
   "cell_type": "code",
   "execution_count": 36,
   "metadata": {},
   "outputs": [
    {
     "name": "stdout",
     "output_type": "stream",
     "text": [
      "Running experiment with grid size 5 and features {'Treasure': 1, 'Bomb': 2, 'Mud': 3, 'Water': 2, 'Mountain': 1}\n",
      "Optimal policy computed, now simulating tutor interactions...\n",
      "Generated Observations: [((0, 0), 'D'), ((1, 0), 'D'), ((2, 0), 'R'), ((3, 0), 'R'), ((3, 1), 'U'), ((2, 1), 'R'), ((1, 1), 'L'), ((1, 0), 'D'), ((2, 0), 'R'), ((1, 0), 'D')]\n",
      "Best reward from PolicyWalk: [[-0.25091976 -1.          0.46398788  0.19731697 -0.68796272]\n",
      " [-0.68801096 -0.88383278  0.73235229  0.20223002  0.41614516]\n",
      " [-0.95883101  0.9398197   0.66488528 -0.57532178 -0.63635007]\n",
      " [-0.63319098 -0.39151551  0.04951286 -0.13610996 -0.41754172]\n",
      " [-1.         -0.72101228 -0.4157107  -0.26727631 -0.08786003]]\n",
      "Best reward from CoolingPolicyWalk: [[-0.25091976  0.90142861  0.46398788  0.19731697 -0.68796272]\n",
      " [-0.68801096 -0.88383278  0.73235229  0.20223002  0.41614516]\n",
      " [-0.95883101  0.9398197   0.66488528 -0.57532178 -0.63635007]\n",
      " [-0.63319098 -0.39151551  0.04951286 -0.13610996 -0.41754172]\n",
      " [ 0.22370579 -0.72101228 -0.4157107  -0.26727631 -0.08786003]]\n"
     ]
    },
    {
     "data": {
      "image/png": "[encoded data removed]",
      "text/plain": [
       "<Figure size 1200x600 with 1 Axes>"
      ]
     },
     "metadata": {},
     "output_type": "display_data"
    },
    {
     "name": "stdout",
     "output_type": "stream",
     "text": [
      "Running experiment with grid size 8 and features {'Treasure': 3, 'Bomb': 6, 'Mud': 9, 'Water': 6, 'Mountain': 3}\n",
      "Optimal policy computed, now simulating tutor interactions...\n",
      "Generated Observations: [((0, 0), 'R'), ((0, 0), 'R'), ((0, 1), 'U'), ((0, 1), 'U'), ((0, 1), 'U'), ((0, 1), 'U'), ((0, 1), 'U'), ((0, 1), 'U'), ((0, 1), 'U'), ((0, 1), 'U')]\n",
      "Best reward from PolicyWalk: [[-0.25091976  0.90142861  0.46398788  0.19731697 -0.68796272 -0.68801096\n",
      "  -0.88383278  0.73235229]\n",
      " [ 0.20223002  0.41614516 -0.95883101  0.9398197   0.66488528 -0.57532178\n",
      "  -0.63635007 -0.63319098]\n",
      " [-0.39151551  0.04951286 -0.13610996 -0.41754172  0.22370579 -0.72101228\n",
      "  -0.4157107  -0.26727631]\n",
      " [-0.08786003  0.57035192 -0.60065244  0.02846888  0.18482914 -0.90709917\n",
      "   0.2150897  -0.65895175]\n",
      " [-0.86989681  0.89777107  0.93126407  0.6167947  -0.39077246 -0.80465577\n",
      "   0.36846605 -0.11969501]\n",
      " [-0.75592353 -0.00964618 -0.93122296  0.8186408  -0.48244004  0.32504457\n",
      "  -0.37657785  0.04013604]\n",
      " [ 0.09342056 -0.63029109  0.93916926  0.55026565  0.87899788  0.7896547\n",
      "   0.19579996  0.84374847]\n",
      " [-0.823015   -0.60803428 -0.90954542 -0.34933934 -0.22264542 -0.45730194\n",
      "   0.65747502 -0.28649335]]\n",
      "Best reward from CoolingPolicyWalk: [[-0.25091976  0.90142861  0.46398788  0.19731697 -0.68796272 -0.68801096\n",
      "  -0.88383278  0.73235229]\n",
      " [ 0.20223002  0.41614516 -0.95883101  0.9398197   0.66488528 -0.57532178\n",
      "  -0.63635007 -0.63319098]\n",
      " [-0.39151551  0.04951286 -0.13610996 -0.41754172  0.22370579 -0.72101228\n",
      "  -0.4157107  -0.26727631]\n",
      " [-0.08786003  0.57035192 -0.60065244  0.02846888  0.18482914 -0.90709917\n",
      "   0.2150897  -0.65895175]\n",
      " [-0.86989681  0.89777107  0.93126407  0.6167947  -0.39077246 -0.80465577\n",
      "   0.36846605 -0.11969501]\n",
      " [-0.75592353 -0.00964618 -0.93122296  0.8186408  -0.48244004  0.32504457\n",
      "  -0.37657785  0.04013604]\n",
      " [ 0.09342056 -0.63029109  0.93916926  0.55026565  0.87899788  0.7896547\n",
      "   0.19579996  0.84374847]\n",
      " [-0.823015   -0.60803428 -0.90954542 -0.34933934 -0.22264542 -0.45730194\n",
      "   0.65747502 -0.28649335]]\n"
     ]
    },
    {
     "data": {
      "image/png": "[encoded data removed]",
      "text/plain": [
       "<Figure size 1200x600 with 1 Axes>"
      ]
     },
     "metadata": {},
     "output_type": "display_data"
    },
    {
     "name": "stdout",
     "output_type": "stream",
     "text": [
      "Running experiment with grid size 10 and features {'Treasure': 5, 'Bomb': 10, 'Mud': 15, 'Water': 10, 'Mountain': 5}\n",
      "Optimal policy computed, now simulating tutor interactions...\n",
      "Generated Observations: [((0, 0), 'R'), ((0, 1), 'R'), ((1, 1), 'R'), ((1, 2), 'U'), ((1, 1), 'R'), ((1, 2), 'U'), ((0, 2), 'R'), ((0, 3), 'R'), ((0, 4), 'R'), ((0, 5), 'R')]\n",
      "Best reward from PolicyWalk: [[-0.25091976  0.90142861  0.46398788  0.19731697 -0.68796272 -0.68801096\n",
      "  -0.88383278  0.73235229  0.20223002  0.41614516]\n",
      " [-0.95883101  0.9398197   0.66488528 -0.57532178 -0.63635007 -0.63319098\n",
      "  -0.39151551  0.04951286 -0.13610996 -0.41754172]\n",
      " [ 0.22370579 -0.72101228 -0.4157107  -0.26727631 -0.08786003  0.57035192\n",
      "  -0.60065244  0.02846888  0.18482914 -0.90709917]\n",
      " [ 0.2150897  -0.65895175 -0.86989681  0.89777107  0.93126407  0.6167947\n",
      "  -0.39077246 -0.80465577  0.36846605 -0.11969501]\n",
      " [-0.75592353 -0.00964618 -0.93122296  0.8186408  -0.48244004  0.32504457\n",
      "  -0.37657785  0.04013604  0.09342056 -0.63029109]\n",
      " [ 0.93916926  0.55026565  0.87899788  0.7896547   0.19579996  0.84374847\n",
      "  -0.823015   -0.60803428 -0.90954542 -0.34933934]\n",
      " [-0.22264542 -0.45730194  0.65747502 -0.28649335 -0.43813098  0.08539217\n",
      "  -0.71815155  0.60439396 -0.85089871  0.97377387]\n",
      " [ 0.54448954 -0.60256864 -0.98895577  0.63092286  0.41371469  0.45801434\n",
      "   0.54254069 -0.8519107  -0.28306854 -0.76826188]\n",
      " [ 0.72620685  0.24659625 -0.33820395 -0.8728833  -0.37803536 -0.34963336\n",
      "   0.45921236  0.27511494  0.77442549 -0.05557015]\n",
      " [-0.76081151  0.42648957  0.5215701   0.1225544   0.54193436 -0.01240881\n",
      "   0.04546566 -0.14491796 -0.94916175 -0.78421715]]\n",
      "Best reward from CoolingPolicyWalk: [[-0.25091976  0.90142861  0.46398788  0.19731697 -0.68796272 -0.68801096\n",
      "  -0.88383278  0.73235229  0.20223002  0.41614516]\n",
      " [-0.95883101  0.9398197   0.66488528 -0.57532178 -0.63635007 -0.63319098\n",
      "  -0.39151551  0.04951286 -0.13610996 -0.41754172]\n",
      " [ 0.22370579 -0.72101228 -0.4157107  -0.26727631 -0.08786003  0.57035192\n",
      "  -0.60065244  0.02846888  0.18482914 -0.90709917]\n",
      " [ 0.2150897  -0.65895175 -0.86989681  0.89777107  0.93126407  0.6167947\n",
      "  -0.39077246 -0.80465577  0.36846605 -0.11969501]\n",
      " [-0.75592353 -0.00964618 -0.93122296  0.8186408  -0.48244004  0.32504457\n",
      "  -0.37657785  0.04013604  0.09342056 -0.63029109]\n",
      " [ 0.93916926  0.55026565  0.87899788  0.7896547   0.19579996  0.84374847\n",
      "  -0.823015   -0.60803428 -0.90954542 -0.34933934]\n",
      " [-0.12264542 -0.45730194  0.65747502 -0.28649335 -0.43813098  0.08539217\n",
      "  -0.71815155  0.60439396 -0.85089871  0.97377387]\n",
      " [ 0.54448954 -0.60256864 -0.98895577  0.63092286  0.41371469  0.45801434\n",
      "   0.54254069 -0.8519107  -0.28306854 -0.76826188]\n",
      " [ 0.72620685  0.24659625 -0.33820395 -0.8728833  -0.37803536 -0.34963336\n",
      "   0.45921236  0.27511494  0.77442549 -0.05557015]\n",
      " [-0.76081151  0.42648957  0.5215701   0.1225544   0.54193436 -0.01240881\n",
      "   0.04546566 -0.14491796 -0.94916175 -0.78421715]]\n"
     ]
    },
    {
     "data": {
      "image/png": "[encoded data removed]",
      "text/plain": [
       "<Figure size 1200x600 with 1 Axes>"
      ]
     },
     "metadata": {},
     "output_type": "display_data"
    },
    {
     "name": "stdout",
     "output_type": "stream",
     "text": [
      "Experiments completed and results plotted.\n"
     ]
    }
   ],
   "source": [
    "def evaluate_policy_loss(observations, reward_function, mdp):\n",
    "    policy_iteration = PolicyIteration(mdp, reward_function)\n",
    "    _, optimal_policy = policy_iteration.solve()\n",
    "    loss = 0\n",
    "    for state, action in observations:\n",
    "        if optimal_policy[state] != action:\n",
    "            loss += 1\n",
    "    return loss/len(observations)\n",
    "\n",
    "def plot_performance(performance, performance_cooling, param_values, param_name):\n",
    "    plt.figure(figsize=(12,6))\n",
    "    plt.plot(param_values, performance, label='Policy Walk')\n",
    "    plt.plot(param_values, performance_cooling, label='Cooling Policy Walk')\n",
    "    plt.xlabel(param_name)\n",
    "    plt.ylabel('0-1 Policy Loss')\n",
    "    plt.title(f'Policy Loss vs {param_name}')\n",
    "    plt.legend()\n",
    "    plt.show()\n",
    "\n",
    "def run_experiments(grid_size, feature_counts, num_iterations, step_size, initial_state, cooling_rate):\n",
    "    print(f\"Running experiment with grid size {grid_size} and features {feature_counts}\")\n",
    "    mdp = RandomPartialMDP(rows=grid_size, columns=grid_size, feature_counts=feature_counts)\n",
    "\n",
    "    # Use policy iteration to find the optimal policy for the initial reward function\n",
    "    reward_function = mdp.get_rewards()\n",
    "    policy_iteration = PolicyIteration(mdp, reward_function)\n",
    "    _, optimal_policy = policy_iteration.solve()\n",
    "\n",
    "    print(\"Optimal policy computed, now simulating tutor interactions...\")\n",
    "    # Generate observations using the imperfect tutor simulation\n",
    "    imperfect_tutor = ImperfectTutorSimulation(mdp, reward_function, optimal_policy)\n",
    "    initial_state = (0, 0)\n",
    "    num_timesteps = 10\n",
    "    observations = imperfect_tutor.simulate(initial_state, num_timesteps)\n",
    "\n",
    "    # Debugging: Print observations to verify structure\n",
    "    print(\"Generated Observations:\", observations)\n",
    "\n",
    "    if not observations:\n",
    "        raise ValueError(\"No observations generated. Check the generate_observations method.\")\n",
    "\n",
    "    # Initialize the priors and posterior calculator\n",
    "    gaussian_prior = GaussianPrior(sigma=1)\n",
    "    q_calculator = QValueCalculator(mdp)\n",
    "    likelihood_calculator = LikelihoodCalculator(mdp, alpha=1)\n",
    "    posterior_calculator = PosteriorCalculator(gaussian_prior, q_calculator, likelihood_calculator)\n",
    "\n",
    "    # Run the PolicyWalk algorithm\n",
    "    policy_walk = PolicyWalk(mdp, gaussian_prior, posterior_calculator, 0.1, 1000)\n",
    "    best_reward = policy_walk.walk()\n",
    "    print(\"Best reward from PolicyWalk:\", best_reward)\n",
    "\n",
    "    # Run the CoolingPolicyWalk algorithm\n",
    "    cooling_policy_walk = CoolingPolicyWalk(mdp, gaussian_prior, posterior_calculator, observations, step_size=0.1, iterations=1000, initial_temp=1.0, cooling_rate=0.95)\n",
    "    best_reward_cooling = cooling_policy_walk.walk()\n",
    "    print(\"Best reward from CoolingPolicyWalk:\", best_reward_cooling)\n",
    "\n",
    "    # Evaluate the performance\n",
    "    performance = [evaluate_policy_loss(observations, policy_walk.neighbor_reward_vector(best_reward), mdp) for _ in range(num_iterations)]\n",
    "    performance_cooling = [evaluate_policy_loss(observations, cooling_policy_walk.neighbor_reward_vector(best_reward_cooling), mdp) for _ in range(num_iterations)]\n",
    "\n",
    "    return performance, performance_cooling\n",
    "\n",
    "\n",
    "# Experiments\n",
    "grid_sizes = [5, 8, 10]\n",
    "feature_counts_list = [\n",
    "    {'Treasure': 1, 'Bomb': 2, 'Mud': 3, 'Water': 2, 'Mountain': 1},\n",
    "    {'Treasure': 3, 'Bomb': 6, 'Mud': 9, 'Water': 6, 'Mountain': 3},\n",
    "    {'Treasure': 5, 'Bomb': 10, 'Mud': 15, 'Water': 10, 'Mountain': 5}\n",
    "]\n",
    "num_iterations = 10\n",
    "step_size = 0.1\n",
    "initial_temp = 1.0\n",
    "cooling_rate = 0.95\n",
    "\n",
    "# Run experiments for different grid sizes and feature counts\n",
    "for grid_size, feature_counts in zip(grid_sizes, feature_counts_list):\n",
    "    performance, performance_cooling = run_experiments(grid_size, feature_counts, num_iterations, step_size, initial_temp, cooling_rate)\n",
    "    plot_performance(performance, performance_cooling, list(range(num_iterations)), f'Iterations (Grid Size: {grid_size})')\n",
    "\n",
    "print(\"Experiments completed and results plotted.\")"
   ]
  },
  {
   "cell_type": "markdown",
   "metadata": {},
   "source": [
    "### Grid Size 5\n",
    "\n",
    "#### Generated observations\n",
    "```plaintext\n",
    "[((0, 0), 'R'), ((0, 1), 'R'), ((0, 2), 'R'), ((0, 3), 'R'), ((1, 3), 'R'), ((0, 3), 'R'), ((0, 4), 'D'), ((1, 4), 'D'), ((2, 4), 'R'), ((2, 4), 'R')]\n",
    "```\n",
    "When we take a look at the first plot, we can see that the policy walk algorithm shows fluctuations in policy loss, indicating variability in performance improvement. At the same time, the cooling policy walk algorithm maintains a consistent policy loss but does not improve, staying at a higher loss level compared to the best instances of PolicyWalk.\n",
    "\n",
    "### Grid Size 8\n",
    "\n",
    "#### Generated observations (we generated the same observations)\n",
    "```plaintext\n",
    "[((0, 0), 'R'), ((0, 1), 'R'), ((0, 2), 'R'), ((0, 3), 'R'), ((1, 3), 'R'), ((0, 3), 'R'), ((0, 4), 'D'), ((1, 4), 'D'), ((2, 4), 'R'), ((2, 4), 'R')]\n",
    "```\n",
    "\n",
    "When looking at the second plot, we notice that the policy walk algorithm shows a significant improvement in policy loss at one point, dropping to zero before rising again.\n",
    "The cooling policy walk algorithm is still maintaining a consistent policy loss but does not improve, staying at a higher loss level compared to the best instances of PolicyWalk.\n",
    "\n",
    "\n",
    "### Grid Size 10\n",
    "\n",
    "#### Generated observations\n",
    "```plaintext\n",
    "[((0, 0), 'R'), ((0, 1), 'U'), ((0, 1), 'U'), ((0, 1), 'U'), ((0, 1), 'U'), ((0, 1), 'U'), ((0, 1), 'U'), ((0, 1), 'U'), ((0, 1), 'U'), ((0, 1), 'U')]\n",
    "```\n",
    "\n",
    "Finally, both policy walk and cooling policy walk maintain a consistent policy loss with little to no fluctuation (even though we cannot see the blue curve representing the policy walk).\n",
    "The cooling policy walk shows slightly more stability in maintaining a consistent policy loss level."
   ]
  }
 ],
 "metadata": {
  "kernelspec": {
   "display_name": "Python 3",
   "language": "python",
   "name": "python3"
  },
  "language_info": {
   "codemirror_mode": {
    "name": "ipython",
    "version": 3
   },
   "file_extension": ".py",
   "mimetype": "text/x-python",
   "name": "python",
   "nbconvert_exporter": "python",
   "pygments_lexer": "ipython3",
   "version": "3.11.5"
  }
 },
 "nbformat": 4,
 "nbformat_minor": 2
}
